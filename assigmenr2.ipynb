{
 "cells": [
  {
   "cell_type": "markdown",
   "id": "456810d9",
   "metadata": {},
   "source": [
    "## task 1 : write a function pow that calucates the pwer witch  takes base and exponent as arguments\n"
   ]
  },
  {
   "cell_type": "code",
   "execution_count": 8,
   "id": "b528c489",
   "metadata": {},
   "outputs": [
    {
     "name": "stdout",
     "output_type": "stream",
     "text": [
      "result = 25\n"
     ]
    }
   ],
   "source": [
    "def power(base,exponent):\n",
    "    result=base**exponent\n",
    "    return result\n",
    "number=int(input(\"entre number\"))\n",
    "exponent=int(input(\"entre power\"))\n",
    "print(f\"result = {power(number,exponent)}\")\n"
   ]
  },
  {
   "cell_type": "markdown",
   "id": "99b43e13",
   "metadata": {},
   "source": [
    "## task 2 : write function area() that calucates the area of the shape "
   ]
  },
  {
   "cell_type": "code",
   "execution_count": 9,
   "id": "087504ea",
   "metadata": {},
   "outputs": [
    {
     "name": "stdout",
     "output_type": "stream",
     "text": [
      "50.24\n"
     ]
    }
   ],
   "source": [
    "class shapes:\n",
    "    def __init__(self,shape_name):\n",
    "        self.shape_name=shape_name\n",
    "    def circle(self,radius):\n",
    "        self.radius=radius\n",
    "        area=3.14*radius**2\n",
    "        return area\n",
    "    def square(self,side):\n",
    "        self.side=side\n",
    "        area=side**2\n",
    "        return area   \n",
    "    def rectangle(self,length,width):\n",
    "        self.length=length\n",
    "        self.width=width\n",
    "        area=length*width\n",
    "        return area\n",
    "    def triangle(self,height,base):\n",
    "        self.height=height\n",
    "        self,base=base\n",
    "        area=1/2*base*height\n",
    "        return area\n",
    "\n",
    "shapetype=input(\"entre the shape name\")\n",
    "shape1=shapes(shapetype)      \n",
    "if shapetype==\"circle\":\n",
    "    radius=int(input(\"entre radius\"))\n",
    "    print(shape1.circle(radius))\n",
    "elif shapetype==\"square\":    \n",
    "    side=int(input(\"entre square side\"))\n",
    "    print(shape1.square(side))\n",
    "elif shapetype==\"rectangle\":\n",
    "    length=int(input(\"entre length\"))   \n",
    "    width=int(input(\"entre width\"))\n",
    "    print(shape1.rectangle(length,width))\n",
    "    \n",
    "elif shapetype==\"triangle\":\n",
    "    base=int(input(\"entre base length\"))\n",
    "    height=int(input(\"entre height\"))\n",
    "    print(shape1.triangle(height,base))\n",
    "else:\n",
    "    print(\"unknown\")"
   ]
  },
  {
   "cell_type": "markdown",
   "id": "73f33987",
   "metadata": {},
   "source": [
    "## task 3 : write a program to find the sum of all numbers in a list "
   ]
  },
  {
   "cell_type": "code",
   "execution_count": 10,
   "id": "4a2e6abf",
   "metadata": {},
   "outputs": [
    {
     "name": "stdout",
     "output_type": "stream",
     "text": [
      "15\n"
     ]
    }
   ],
   "source": [
    "lst=[1,2,3,4,5]\n",
    "total=0\n",
    "for x in lst:\n",
    "    total+=x\n",
    "print(total)"
   ]
  },
  {
   "cell_type": "markdown",
   "id": "00f13b2e",
   "metadata": {},
   "source": [
    "# task 4 : write a program to cocatenate then get the max and min element"
   ]
  },
  {
   "cell_type": "code",
   "execution_count": 12,
   "id": "f0a44565",
   "metadata": {},
   "outputs": [
    {
     "name": "stdout",
     "output_type": "stream",
     "text": [
      "max number: 8\n",
      "min number: 1\n",
      "(1, 2, 3, 4, 7, 8)\n"
     ]
    }
   ],
   "source": [
    "tuple1=(1,3,7)\n",
    "tuple2=(2,8,4)\n",
    "tuples=tuple1+tuple2\n",
    "lst_tup=list(tuples)\n",
    "sorted_lst=sorted(lst_tup)\n",
    "big_num_ndx=len(sorted_lst)\n",
    "print(f\"max number: {sorted_lst[big_num_ndx-1]}\")\n",
    "print(f\"min number: {sorted_lst[0]}\")\n",
    "tuples=tuple(sorted_lst)\n",
    "print(tuples)\n",
    "\n",
    "#another way \n",
    "#tuple1=(1,3,7)\n",
    "#tuple2=(2,8,4)\n",
    "#tuples=tuple1+tuple2\n",
    "#lst_tup=list(tuples)\n",
    "#max_num=max(tuples)\n",
    "#min_num=min(tuples)\n",
    "#sorted_lst=sorted(lst_tup)\n",
    "#tuples=tuple(sorted_lst)\n",
    "#print(max_num)\n",
    "#print(min_num)\n",
    "#print(tuples)"
   ]
  },
  {
   "cell_type": "markdown",
   "id": "5eee58f4",
   "metadata": {},
   "source": [
    "## task 5 : write a function that takes tuple as argument and if lingth of tuple greater than 5, return the count of number elements "
   ]
  },
  {
   "cell_type": "code",
   "execution_count": 14,
   "id": "d16853f6",
   "metadata": {},
   "outputs": [
    {
     "name": "stdout",
     "output_type": "stream",
     "text": [
      "integer numbers= 2\n",
      "float numbers= 2\n",
      "\n",
      "integer tuple : (1, 7)\n",
      "float tuple : (222.4, 3.6)\n",
      "your tuple : ('1', '222.4', '3.6', 'd', 'w', '7')\n"
     ]
    }
   ],
   "source": [
    "def checking():\n",
    "    lst=[]\n",
    "    int_lst=[]\n",
    "    float_lst=[]\n",
    "    int_num=0\n",
    "    float_num=0\n",
    "    num=int(input(\"how many elements do you want to add?\"))\n",
    "    for x in range(num):\n",
    "        element=input(f\"entre element {x+1}\")\n",
    "        lst.append(element)\n",
    "    if num>5:\n",
    "        for i in lst:\n",
    "            try:\n",
    "                     i=float(i)\n",
    "                     if i== int(i):\n",
    "                          i=int(i)\n",
    "                          int_lst.append(i)\n",
    "                         \n",
    "                     else:\n",
    "                         float_lst.append(i)\n",
    "            except ValueError:    \n",
    "                continue        \n",
    "        int_num=len(int_lst)\n",
    "        float_num=len(float_lst)\n",
    "        print(f\"integer numbers= {int_num}\")    \n",
    "        print(f\"float numbers= {float_num}\") \n",
    "        int_lst=tuple(int_lst)\n",
    "        float_lst=tuple(float_lst)\n",
    "        \n",
    "        print(f\"\\ninteger tuple : {int_lst}\")\n",
    "        print(f\"float tuple : {float_lst}\")\n",
    "        lst=tuple(lst)\n",
    "        print(f\"your tuple : {lst}\") \n",
    "    else:\n",
    "        print(f\"your tuple: {lst}\")      \n",
    "checking()"
   ]
  },
  {
   "cell_type": "markdown",
   "id": "d6a2b9bf",
   "metadata": {},
   "source": [
    "## task 6 : write a function witch will be able tp print an index of list element without using index function "
   ]
  },
  {
   "cell_type": "code",
   "execution_count": 15,
   "id": "53a2aed4",
   "metadata": {},
   "outputs": [
    {
     "name": "stdout",
     "output_type": "stream",
     "text": [
      "n index : 6\n",
      "your list : ['a', '4', '4.6', 'g', '3.9', 'f0', 'n']\n"
     ]
    }
   ],
   "source": [
    "def ndx():\n",
    "    num=int(input(\"How many elements do you want to add ?  \"))\n",
    "    lst=[]\n",
    "    for x in range(num):\n",
    "        element=input(\"entre your element \")\n",
    "        lst.append(element)\n",
    "    element_ndx=input(\"Enter the element you want to find \")  \n",
    "    for y in range(len(lst)):\n",
    "        if lst[y]==element_ndx:\n",
    "            print(f\"{element_ndx} index : {y}\")\n",
    "        else:\n",
    "            continue     \n",
    "    print(f\"your list : {lst}\")    \n",
    "ndx()"
   ]
  },
  {
   "cell_type": "markdown",
   "id": "cc85080d",
   "metadata": {},
   "source": [
    "## task 7 : write a python function that takes a number as a parameter and checks whether the number is prime or not "
   ]
  },
  {
   "cell_type": "code",
   "execution_count": 24,
   "id": "ce2f7bff",
   "metadata": {},
   "outputs": [
    {
     "name": "stdout",
     "output_type": "stream",
     "text": [
      "isn't prime\n"
     ]
    }
   ],
   "source": [
    "def checking(num):\n",
    "    for x in range (2,num):\n",
    "        if num%x==0:\n",
    "            print(\"isn't prime\")\n",
    "            break\n",
    "        else:\n",
    "            print(\"is prime\")  \n",
    "            break\n",
    "number=int(input(\"entre your number\"))\n",
    "checking(number)              "
   ]
  },
  {
   "cell_type": "markdown",
   "id": "e8dd3e4b",
   "metadata": {},
   "source": [
    "## task 8 : write a python class restaurant with attributes like menu_items book table, and customer orders ..........."
   ]
  },
  {
   "cell_type": "code",
   "execution_count": 19,
   "id": "d5e00aab",
   "metadata": {},
   "outputs": [
    {
     "name": "stdout",
     "output_type": "stream",
     "text": [
      "----> main meals: \n",
      "\n",
      "pizza:20$\n",
      "\n",
      "fish meal:30$\n",
      "\n",
      "broasted chicken meal:25$\n",
      "\n",
      "compelete meal:30$\n",
      "\n",
      "family bucket:45$\n",
      "\n",
      "----> salads: \n",
      "\n",
      "small salad:7$\n",
      "\n",
      "large salad:12$\n",
      "\n",
      "green salad:10$\n",
      "\n",
      "coleslaw:4$\n",
      "\n",
      "----> snacks: \n",
      "\n",
      "mozzarilla sticks:6$\n",
      "\n",
      "spring rolls:6$\n",
      "\n",
      "potato wedges:4$\n",
      "\n",
      "----> soft drinks: \n",
      "\n",
      "cocacola:1.5$\n",
      "\n",
      "pepsi:1.5$\n",
      "\n",
      "mountain dew:1.5$\n",
      "\n",
      "fanta:1.5$\n",
      "\n",
      "sprite:1.5$\n",
      "\n",
      "available tables : \n",
      "\n",
      "table 3\n",
      "table 5\n",
      "table 6\n",
      "table 13\n",
      "table 14\n",
      "table 17\n",
      "table 20\n",
      "\n",
      "your tables:\n",
      "table 3\n",
      "----> main meals: \n",
      "\n",
      "pizza:20$\n",
      "\n",
      "fish meal:30$\n",
      "\n",
      "broasted chicken meal:25$\n",
      "\n",
      "compelete meal:30$\n",
      "\n",
      "family bucket:45$\n",
      "\n",
      "----> salads: \n",
      "\n",
      "small salad:7$\n",
      "\n",
      "large salad:12$\n",
      "\n",
      "green salad:10$\n",
      "\n",
      "coleslaw:4$\n",
      "\n",
      "----> snacks: \n",
      "\n",
      "mozzarilla sticks:6$\n",
      "\n",
      "spring rolls:6$\n",
      "\n",
      "potato wedges:4$\n",
      "\n",
      "----> soft drinks: \n",
      "\n",
      "cocacola:1.5$\n",
      "\n",
      "pepsi:1.5$\n",
      "\n",
      "mountain dew:1.5$\n",
      "\n",
      "fanta:1.5$\n",
      "\n",
      "sprite:1.5$\n",
      "\n",
      "\n",
      "\n",
      "\n",
      "total= 4\n",
      "\n",
      "What type of item would you like to add?\n",
      "1. main meals\n",
      "2. salads\n",
      "3. snacks\n",
      "4. soft drinks\n",
      "\n"
     ]
    }
   ],
   "source": [
    "class menus :\n",
    "\n",
    "  def  __init__(self):  \n",
    "    self.menu_dict={\"main meals\":{\"pizza\":20,  \n",
    "                        \"fish meal\":30,  \n",
    "                        \"broasted chicken meal\":25,  \n",
    "                        \"compelete meal\":30,  \n",
    "                        \"family bucket\":45},  \n",
    "           \"salads\":{\"small salad\":7,  \n",
    "                     \"large salad\":12,  \n",
    "                     \"green salad\":10,  \n",
    "                     \"coleslaw\":4},  \n",
    "           \"snacks\":{\"mozzarilla sticks\":6,  \n",
    "                      \"spring rolls\":6,  \n",
    "                      \"potato wedges\":4},  \n",
    "           \"soft drinks\":{\"cocacola\":1.5,  \n",
    "                          \"pepsi\":1.5,  \n",
    "                          \"mountain dew\":1.5,  \n",
    "                          \"fanta\":1.5,  \n",
    "                          \"sprite\":1.5}  \n",
    "           }  \n",
    "  def add_item(self,name,price):        \n",
    "    self.name=name  \n",
    "    self.price=price  \n",
    "    print(\"What type of item would you like to add?\")   \n",
    "    print(\"1. main meals\")      \n",
    "    print(\"2. salads\")  \n",
    "    print(\"3. snacks\")  \n",
    "    print(\"4. soft drinks\")  \n",
    "    print(\"\")  \n",
    "    choice=input(\"entre your choice \")  \n",
    "    choice=choice.lower()  \n",
    "    self.menu_dict[choice].update({self.name:self.price})  \n",
    "  def display(self):  \n",
    "    for type,items in self.menu_dict.items():  \n",
    "         print(f\"----> {type}: \")  \n",
    "         print(\"\")  \n",
    "         for item,price in items.items():  \n",
    "             print(f\"{item}:{price}$\")  \n",
    "             print(\"\")\n",
    "\n",
    "class tables:\n",
    "   def add_table(self):\n",
    "       self.table_dict={\"table 1\":\"reserved\",\"table 2\":\"reserved\",\"table 3\":\"available\",\"table 4\":\"resrved\",\n",
    "       \"table 5\":\"available\",\"table 6\":\"available\",\"table 7\":\"reserved\",\"table 8\":\"reserved\",\n",
    "       \"table 9\":\"reserved\",\"table 10\":\"reserved\",\"table 11\":\"reserved\",\"table 12\":\"reserved\",\n",
    "       \"table 13\":\"available\",\"table 14\":\"available\",\"table 15\":\"reserved\",\"table 16\":\"reserved\",\n",
    "       \"table 17\":\"available\",\"table 18\":\"reserved\",\"table 19\":\"reserved\",\"table 20\":\"available\"}\n",
    "       self.lst=[]\n",
    "       for key,value in self.table_dict.items():\n",
    "          if value ==\"available\":\n",
    "           self.lst.append(key)\n",
    "           print(key)\n",
    "       num_table=int(input(\"how many tables do you want to reserve ?  \"))\n",
    "       ndx=0\n",
    "       print(\"\\nyour tables:\")\n",
    "       for x in range(num_table):\n",
    "         print(self.lst[ndx])\n",
    "         self.table_dict.update({self.lst[ndx] :\"reserved\"})\n",
    "         ndx+=1\n",
    "class orders(menus):\n",
    "    def __init__(self,order_name):\n",
    "        super().__init__()\n",
    "        self.order_name=order_name\n",
    "    def add_order(self):\n",
    "        total=0\n",
    "        order_lst=[]\n",
    "        for y in range(20):\n",
    "            print(\"\")\n",
    "            order=input(\"\\nentre item's name,entre finish to finish your order\")\n",
    "            if order==\"finish\":\n",
    "                break\n",
    "            else:\n",
    "                for category in self.menu_dict.values():\n",
    "                    if order in category:\n",
    "                        total+=category[order]   \n",
    "                        print(\"\")  \n",
    "                        print(f\"\\ntotal= {total}\")\n",
    "\n",
    "#display menu\n",
    "choice3=input(\"do you want to see menu ?  \")\n",
    "choice3=choice3.lower()\n",
    "if choice3==\"yes\":\n",
    "    dis=menus()\n",
    "    dis.display()\n",
    "\n",
    "#book a table\n",
    "choice=input(\"\\ndo you want to reserve a table ?   \")\n",
    "choice=choice.lower()\n",
    "if choice==\"yes\":\n",
    "    print(\"available tables : \")\n",
    "    book=tables()\n",
    "    print(\"\")\n",
    "    book.add_table()\n",
    "\n",
    "#book an order\n",
    "choice2=input(\"\\ndo you want to book an order ?   \")\n",
    "choice2=choice2.lower()\n",
    "if choice2==\"yes\":\n",
    "    display=menus()\n",
    "    display.display()\n",
    "    ord_name=input(\"\\nentre your order name   \")\n",
    "    new_ord=orders(ord_name)\n",
    "    new_ord.add_order()\n",
    "\n",
    "#add item\n",
    "choice4=input(\"\\ndo you want to add an item to the menu ?   \")\n",
    "choice4=choice4.lower()\n",
    "if choice4==\"yes\":\n",
    "    item_name=input(\"\\nentre item name   \")\n",
    "    item_price=float(input(\"\\nentre item price  \"))\n",
    "    additem=menus()\n",
    "    additem.add_item(item_name,item_price)"
   ]
  },
  {
   "cell_type": "markdown",
   "id": "33b97dc6",
   "metadata": {},
   "source": [
    "# task 9 : main bike rental"
   ]
  },
  {
   "cell_type": "code",
   "execution_count": 20,
   "id": "4725f585",
   "metadata": {},
   "outputs": [
    {
     "name": "stdout",
     "output_type": "stream",
     "text": [
      "\n",
      "rented successfully \n",
      "\n",
      "bill = 800.0 \n"
     ]
    }
   ],
   "source": [
    "class customer:\n",
    "    def __init__(self,name,age):\n",
    "        self.name=name\n",
    "        self.age=age\n",
    "    def get_name(self):\n",
    "        return self.name\n",
    "    def set_name(self,name):\n",
    "            self.name=name\n",
    "    def get_age(self):\n",
    "        return self.age\n",
    "    def set_age(self,age):\n",
    "        if age>0:\n",
    "            self.age=age\n",
    "        else:\n",
    "            print(\"Age must be greater than 0\")\n",
    "class Bike:\n",
    "    def __init__(self, name, features):\n",
    "        self.name = name\n",
    "        self.features = features\n",
    "\n",
    "    def get_name(self):\n",
    "        return self.name\n",
    "\n",
    "    def set_name(self, name):\n",
    "        self.name = name\n",
    "\n",
    "    def get_features(self):\n",
    "        return self.features\n",
    "\n",
    "    def set_features(self, features):\n",
    "            self.features=features\n",
    "class main_bike_rental :\n",
    "    def __init__(self):\n",
    "        self.bike_lst=[Bike(\"bike name1\",[\"property1\",\"property2\",\"property3\"]),Bike(\"bike name2\",[\"property1\",\"property2\",\"property3\"]),Bike(\"bike name3\",[\"property1\",\"property2\",\"property3\"]),Bike(\"bike name4\",[\"property1\",\"property2\",\"property3\"]),Bike(\"bike name5\",[\"property1\",\"property2\",\"property3\"]),Bike(\"bike name6\",[\"property1\",\"property2\",\"property3\"]),Bike(\"bike name7\",[\"property1\",\"property2\",\"property3\"]),Bike(\"bike name8\",[\"property1\",\"property2\",\"property3\"]),Bike(\"bike name9\",[\"property1\",\"property2\",\"property3\"]),Bike(\"bike name10\",[\"property1\",\"property2\",\"property3\"])]\n",
    "        self.rent_lst=[{\"cust name1\":\"bikename1\",\"cust name2\":\"bikename2\",\"cust name3\":\"bikename3\",\"cust name4\":\"bikename4\"}]\n",
    "        self.rent_bikes={}\n",
    "    \n",
    "    def get_rent_lst(self):\n",
    "        return self.rent_lst\n",
    "    def set_rent_lst(self,cust,bike,new_bike):\n",
    "        if cust in self.rent_lst[0]:\n",
    "            self.rent_lst[0][cust]=new_bike\n",
    "        else:\n",
    "            print(\"not found\")    \n",
    "    def request_bike(self,cust,num_bikes):\n",
    "        if cust.get_age()<=6:\n",
    "            print(\"age must be greater than 6 \")\n",
    "        else:\n",
    "            if num_bikes>len(self.bike_lst):\n",
    "                print(\"wait 10 minutes please \") \n",
    "            else:\n",
    "                for x in range(num_bikes):\n",
    "                   bike=self.bike_lst.pop(0)\n",
    "                   self.rent_bikes[bike.get_name()]=bike\n",
    "                print(\"\\nrented successfully \")\n",
    "    def returnBike(self,rental_time,num_bikes):\n",
    "        rental_time=float(rental_time)\n",
    "        num_bikes=int(num_bikes)\n",
    "        bill=num_bikes*rental_time*40\n",
    "        print(f\"\\nbill = {bill} \")\n",
    "        for y in self.rent_bikes.values():\n",
    "            self.bike_lst.append(y)\n",
    "        self.rent_bikes.clear()\n",
    "\n",
    "name=input(\"entre your name  \")\n",
    "age=int(input(\"entre your age \"))\n",
    "num=int(input(\"entre the number of bikes you want  \"))\n",
    "cust=customer(name,age)  \n",
    "rental=main_bike_rental()\n",
    "rental.request_bike(cust,num)\n",
    "choice=input(\"do you want to return bike ?  \")\n",
    "if choice.lower() == \"yes\":\n",
    "   time=float(input(\"entre time  \"))\n",
    "   rental.returnBike(time,num)"
   ]
  }
 ],
 "metadata": {
  "kernelspec": {
   "display_name": "base",
   "language": "python",
   "name": "python3"
  },
  "language_info": {
   "codemirror_mode": {
    "name": "ipython",
    "version": 3
   },
   "file_extension": ".py",
   "mimetype": "text/x-python",
   "name": "python",
   "nbconvert_exporter": "python",
   "pygments_lexer": "ipython3",
   "version": "3.13.5"
  }
 },
 "nbformat": 4,
 "nbformat_minor": 5
}
